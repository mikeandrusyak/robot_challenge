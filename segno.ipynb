{
 "cells": [
  {
   "cell_type": "code",
   "id": "initial_id",
   "metadata": {
    "collapsed": true,
    "ExecuteTime": {
     "end_time": "2025-04-24T08:27:28.219832Z",
     "start_time": "2025-04-24T08:27:28.147454Z"
    }
   },
   "source": "import segno",
   "outputs": [],
   "execution_count": 2
  },
  {
   "metadata": {
    "ExecuteTime": {
     "end_time": "2025-04-24T09:35:20.607227Z",
     "start_time": "2025-04-24T09:35:20.553935Z"
    }
   },
   "cell_type": "code",
   "source": [
    "qrcode = segno.make('Zumi is angry today!')\n",
    "qrcode.save('angry_zumi.svg',scale=20)  # SVG document\n",
    "qrcode.save('angry_zumi.png',scale=10)  # PNG image\n",
    "qrcode.save('angry_zumi.eps',scale=20)  # EPS document\n"
   ],
   "id": "2b0193a86dee2f01",
   "outputs": [],
   "execution_count": 13
  },
  {
   "metadata": {
    "ExecuteTime": {
     "end_time": "2025-04-24T15:31:08.146Z",
     "start_time": "2025-04-24T15:31:08.108042Z"
    }
   },
   "cell_type": "code",
   "source": [
    "qrcode = segno.make('Take Picture_Picture_Taken!_Picture')\n",
    "qrcode.save('Picture_Taken.png',scale=15)\n",
    "qrcode = segno.make('Take Picture')\n",
    "qrcode.save('Take Picture.png',scale=15)\n",
    "qrcode = segno.make('Picture')\n",
    "qrcode.save('Picture.png',scale=15)\n",
    "qrcode = segno.make('Tourist Attraction')\n",
    "qrcode.save('Tourist Attraction.png',scale=10)"
   ],
   "id": "fb889513ca2b67ba",
   "outputs": [],
   "execution_count": 20
  }
 ],
 "metadata": {
  "kernelspec": {
   "display_name": "Python 3",
   "language": "python",
   "name": "python3"
  },
  "language_info": {
   "codemirror_mode": {
    "name": "ipython",
    "version": 2
   },
   "file_extension": ".py",
   "mimetype": "text/x-python",
   "name": "python",
   "nbconvert_exporter": "python",
   "pygments_lexer": "ipython2",
   "version": "2.7.6"
  }
 },
 "nbformat": 4,
 "nbformat_minor": 5
}
