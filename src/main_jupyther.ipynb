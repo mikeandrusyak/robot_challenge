{
 "cells": [
  {
   "cell_type": "code",
   "execution_count": null,
   "metadata": {},
   "outputs": [
    {
     "name": "stdout",
     "output_type": "stream",
     "text": [
      "Starting Zumi \n",
      "Pi Zero I2C is available\n",
      "Verified Pi Zero is the same\n",
      "Gyroscope previously calibrated\n",
      "Zumi board detected\n",
      "Compass detected\n",
      "OLED Screen detected\n",
      "Gyroscope & Accelerometer detected\n",
      "Zumi battery level  52 %\n",
      "Starting Zumi \n",
      "Pi Zero I2C is available\n",
      "Verified Pi Zero is the same\n",
      "Gyroscope previously calibrated\n",
      "Zumi board detected\n",
      "Compass detected\n",
      "OLED Screen detected\n",
      "Gyroscope & Accelerometer detected\n",
      "Zumi battery level  52 %\n",
      "Starting Zumi \n",
      "Pi Zero I2C is available\n",
      "Verified Pi Zero is the same\n",
      "Gyroscope previously calibrated\n",
      "Zumi board detected\n",
      "Compass detected\n",
      "OLED Screen detected\n",
      "Gyroscope & Accelerometer detected\n",
      "Zumi battery level  52 %\n",
      "Starting Zumi \n",
      "Pi Zero I2C is available\n",
      "Verified Pi Zero is the same\n",
      "Gyroscope previously calibrated\n",
      "Zumi board detected\n",
      "Compass detected\n",
      "OLED Screen detected\n",
      "Gyroscope & Accelerometer detected\n",
      "Zumi battery level  52 %\n"
     ]
    }
   ],
   "source": [
    "import time\n",
    "from zumi.zumi import Zumi\n",
    "from zumi.util.screen import Screen\n",
    "from zumi.util.vision import Vision\n",
    "from zumi.util.camera import Camera \n",
    "from zumi.personality import Personality\n",
    "import sys\n",
    "import os\n",
    "\n",
    "sys.path.append(os.path.abspath('./src'))\n",
    "\n",
    "import moving_functions as move_f\n",
    "import vision_functions as vf\n",
    "import utils\n",
    "\n",
    "\n",
    "zumi =    Zumi()\n",
    "camera    = Camera()\n",
    "screen    = Screen()\n",
    "vision    = Vision()\n",
    "personality = Personality(zumi, screen)"
   ]
  },
  {
   "cell_type": "code",
   "execution_count": 6,
   "metadata": {},
   "outputs": [
    {
     "name": "stdout",
     "output_type": "stream",
     "text": [
      "Creating new offset file...\n",
      ".\n",
      ".\n"
     ]
    }
   ],
   "source": [
    "zumi.mpu.calibrate_MPU()"
   ]
  },
  {
   "cell_type": "code",
   "execution_count": 7,
   "metadata": {},
   "outputs": [],
   "source": [
    "log = {}"
   ]
  },
  {
   "cell_type": "code",
   "execution_count": null,
   "metadata": {},
   "outputs": [
    {
     "ename": "TypeError",
     "evalue": "log_event() missing 1 required positional argument: 'action'",
     "output_type": "error",
     "traceback": [
      "\u001b[0;31m---------------------------------------------------------------------------\u001b[0m",
      "\u001b[0;31mTypeError\u001b[0m                                 Traceback (most recent call last)",
      "\u001b[0;32m<ipython-input-9-3b5b3383c0bd>\u001b[0m in \u001b[0;36m<module>\u001b[0;34m\u001b[0m\n\u001b[1;32m      5\u001b[0m \u001b[0;34m\u001b[0m\u001b[0m\n\u001b[1;32m      6\u001b[0m \u001b[0mlog\u001b[0m \u001b[0;34m=\u001b[0m \u001b[0mutils\u001b[0m\u001b[0;34m.\u001b[0m\u001b[0mlog_event\u001b[0m\u001b[0;34m(\u001b[0m\u001b[0mlog\u001b[0m\u001b[0;34m,\u001b[0m \u001b[0;34m'start'\u001b[0m\u001b[0;34m)\u001b[0m\u001b[0;34m\u001b[0m\u001b[0m\n\u001b[0;32m----> 7\u001b[0;31m \u001b[0mlog\u001b[0m \u001b[0;34m=\u001b[0m \u001b[0mutils\u001b[0m\u001b[0;34m.\u001b[0m\u001b[0mlog_event\u001b[0m\u001b[0;34m(\u001b[0m\u001b[0;34m'end_line'\u001b[0m\u001b[0;34m)\u001b[0m\u001b[0;34m\u001b[0m\u001b[0m\n\u001b[0m\u001b[1;32m      8\u001b[0m \u001b[0;34m\u001b[0m\u001b[0m\n\u001b[1;32m      9\u001b[0m \u001b[0;32mtry\u001b[0m\u001b[0;34m:\u001b[0m\u001b[0;34m\u001b[0m\u001b[0m\n",
      "\u001b[0;31mTypeError\u001b[0m: log_event() missing 1 required positional argument: 'action'"
     ]
    }
   ],
   "source": [
    "log = {}\n",
    "zumi.reset_gyro()\n",
    "desired_angle = zumi.read_z_angle() \n",
    "number_of_objects = 0\n",
    "\n",
    "log = utils.log_event(log, 'start')\n",
    "log = utils.log_event(log, 'end_line')\n",
    "\n",
    "try:\n",
    "    while True:\n",
    "        # Set the threshold for the IR sensors and the speed\n",
    "        threshold = 50 \n",
    "        speed = 5\n",
    "\n",
    "        if utils.object_detected():\n",
    "            zumi.stop()\n",
    "            zumi.brake_lights_on()\n",
    "            time.sleep(2)\n",
    "            zumi.brake_lights_off()\n",
    "            log = utils.log_event(log, 'object_detected')\n",
    "            number_of_objects += 1\n",
    "            zumi.play_note(1, 500) # 1 is note type (1 - 60), 500 is duration in ms\n",
    "            screen.draw_text_center(\"Objects: \" + str(number_of_objects)) # Display object count on screen\n",
    "            # Wait until the object is removed\n",
    "            print(\"Waiting for object to be removed...\")\n",
    "            while utils.object_detected():\n",
    "                zumi.stop()\n",
    "                time.sleep(0.1)\n",
    "            log = utils.log_event(log, 'object_removed')\n",
    "            print(\"Object removed. Resuming movement.\")\n",
    "            log = utils.log_event(log, 'qr_code_read')\n",
    "            message = vf.read_qr_code(camera, screen, vision, speed, number_of_objects, threshold)\n",
    "            log = utils.log_event(log, 'qr_code_command: ' + str(message) + \" done\")\n",
    "            \n",
    "\n",
    "        # Read all IR sensor values\n",
    "        front_right, bottom_right, back_right, bottom_left, back_left, front_left = zumi.get_all_IR_data()\n",
    "\n",
    "        # Correction to line if one sensor is on the line and the other is off\n",
    "        desired_angle = move_f.line_correction(bottom_left, bottom_right, desired_angle, threshold)\n",
    "\n",
    "        # Move forward with the corrected heading\n",
    "        if bottom_left > threshold or bottom_right > threshold:\n",
    "            zumi.go_straight(speed, desired_angle)\n",
    "        else:\n",
    "            log = utils.log_event(log, 'end_line')\n",
    "            \n",
    "            if (log['end_line'][-1] - log['end_line'][-2]).total_seconds() > 3:\n",
    "                go_left = True\n",
    "            \n",
    "                log = utils.log_event(log, 'check_left')\n",
    "                # Turn to check if left is line\n",
    "                turned_left_angle = move_f.turn_to_check(zumi, 'left')\n",
    "\n",
    "                # Calculate angle if turn was too much or not enough\n",
    "                desired_angle = move_f.turning_correction(turned_left_angle, 90)\n",
    "\n",
    "                front_right, bottom_right, back_right, bottom_left, back_left, front_left = zumi.get_all_IR_data()\n",
    "            else:\n",
    "                go_left = False\n",
    "            if (bottom_left > threshold or bottom_right > threshold) and go_left:\n",
    "                log = utils.log_event(log, 'move_left')\n",
    "                move_f.move_after_turning(zumi, speed, desired_angle)\n",
    "            else:\n",
    "                \n",
    "                log = utils.log_event(log, 'check_right')\n",
    "                # Turn to check if right is line\n",
    "                turned_right_angle = move_f.turn_to_check(zumi, 'right') \n",
    "                \n",
    "                # Calculate angle if turn was too much or not enough\n",
    "                desired_angle = move_f.turning_correction(turned_right_angle, 180)\n",
    "\n",
    "                front_right, bottom_right, back_right, bottom_left, back_left, front_left = zumi.get_all_IR_data()\n",
    "\n",
    "                if bottom_left > threshold or bottom_right > threshold:\n",
    "                    log = utils.log_event(log, 'move_right')\n",
    "                    move_f.move_after_turning(zumi, speed, desired_angle)\n",
    "                else:\n",
    "                    zumi.stop()\n",
    "                    log = utils.log_event(log, 'stop')\n",
    "                    move_f.finish_with_180_turn()\n",
    "                    log = utils.log_event(log, 'finish_with_180_turn')\n",
    "                    break\n",
    "finally:\n",
    "    zumi.stop()\n",
    "    log = utils.log_event(log, 'stop')\n",
    "    #save_dict_to_csv(log)"
   ]
  }
 ],
 "metadata": {
  "kernelspec": {
   "display_name": "Python 3",
   "language": "python",
   "name": "python3"
  },
  "language_info": {
   "codemirror_mode": {
    "name": "ipython",
    "version": 3
   },
   "file_extension": ".py",
   "mimetype": "text/x-python",
   "name": "python",
   "nbconvert_exporter": "python",
   "pygments_lexer": "ipython3",
   "version": "3.5.3"
  }
 },
 "nbformat": 4,
 "nbformat_minor": 2
}
