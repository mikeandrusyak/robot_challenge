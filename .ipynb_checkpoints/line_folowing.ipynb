{
 "cells": [
  {
   "cell_type": "code",
   "execution_count": null,
   "metadata": {},
   "outputs": [
    {
     "name": "stdout",
     "output_type": "stream",
     "text": [
      "Starting Zumi \n",
      "Pi Zero I2C is available\n",
      "Verified Pi Zero is the same\n",
      "Gyroscope previously calibrated\n",
      "Zumi board detected\n",
      "Compass detected\n",
      "OLED Screen detected\n",
      "Gyroscope & Accelerometer detected\n",
      "Zumi battery level  39 %\n"
     ]
    }
   ],
   "source": [
    "from zumi.zumi import Zumi\n",
    "from zumi.util.screen import Screen\n",
    "import time\n",
    "from zumi.util.vision import Vision\n",
    "from zumi.util.camera import Camera \n",
    "\n",
    "zumi =    Zumi()\n",
    "camera    = Camera()\n",
    "screen    = Screen()\n",
    "vision    = Vision()"
   ]
  },
  {
   "cell_type": "code",
   "execution_count": 35,
   "metadata": {},
   "outputs": [
    {
     "name": "stdout",
     "output_type": "stream",
     "text": [
      "Creating new offset file...\n",
      ".\n",
      ".\n"
     ]
    }
   ],
   "source": [
    "zumi.mpu.calibrate_MPU()"
   ]
  },
  {
   "cell_type": "code",
   "execution_count": null,
   "metadata": {},
   "outputs": [],
   "source": [
    "zumi.reset_gyro()\n",
    "zumi.read_z_angle()\n",
    "desired_angle = zumi.read_z_angle() \n",
    "try:\n",
    "    while True:\n",
    "        # Set the threshold for the IR sensors and the speed\n",
    "        threshold = 50 \n",
    "        speed = 5\n",
    "\n",
    "        # Read all IR sensor values\n",
    "        front_right, bottom_right, back_right, bottom_left, back_left, front_left = zumi.get_all_IR_data()\n",
    "\n",
    "        # Correction to line if one sensor is on the line and the other is off\n",
    "        if bottom_left > threshold and bottom_right < threshold:\n",
    "            desired_angle +=5\n",
    "        elif bottom_left < threshold and bottom_right > threshold:\n",
    "            desired_angle -=5\n",
    "\n",
    "        # Move forward with the corrected heading\n",
    "        if bottom_left > threshold or bottom_right > threshold:\n",
    "            zumi.go_straight(speed, desired_angle)\n",
    "        else:\n",
    "            # Check if the line is to the left\n",
    "            zumi.reset_gyro()\n",
    "            zumi.turn_left(90)\n",
    "            time.sleep(0.01)\n",
    "            desired_angle = zumi.read_z_angle()\n",
    "            front_right, bottom_right, back_right, bottom_left, back_left, front_left = zumi.get_all_IR_data()\n",
    "\n",
    "            print(desired_angle)\n",
    "\n",
    "            # Correction if turn was too much or not enough\n",
    "            if desired_angle >= 90:\n",
    "                desired_angle = -abs(desired_angle-90)\n",
    "            else:\n",
    "                desired_angle = abs(desired_angle-90)\n",
    "\n",
    "            print(desired_angle)\n",
    "            if bottom_left > threshold and bottom_right > threshold:\n",
    "                zumi.reset_gyro()\n",
    "                for x in range(3):\n",
    "                    zumi.go_straight(speed, desired_angle)\n",
    "            else:\n",
    "                # Check if the line is to the right\n",
    "                zumi.reset_gyro()\n",
    "                zumi.turn_right(180)\n",
    "                time.sleep(0.01)\n",
    "                desired_angle = zumi.read_z_angle()\n",
    "\n",
    "                print(desired_angle)\n",
    "                \n",
    "                # Correction if turn was too much or not enough\n",
    "                if desired_angle >= -180:\n",
    "                    desired_angle = -abs(180-abs(desired_angle))\n",
    "                else:\n",
    "                    desired_angle = abs(180-abs(desired_angle))\n",
    "\n",
    "                zumi.reset_gyro()                \n",
    "                print(desired_angle)\n",
    "\n",
    "                for x in range(3):\n",
    "                    zumi.go_straight(speed, desired_angle)\n",
    "                front_right, bottom_right, back_right, bottom_left, back_left, front_left = zumi.get_all_IR_data()\n",
    "                if bottom_left < threshold or bottom_right < threshold:\n",
    "                    zumi.stop()\n",
    "                    break\n",
    "finally:\n",
    "    zumi.stop()"
   ]
  },
  {
   "cell_type": "code",
   "execution_count": 70,
   "metadata": {},
   "outputs": [
    {
     "data": {
      "text/plain": [
       "[97, 14, 99, 179, 129, 191]"
      ]
     },
     "execution_count": 70,
     "metadata": {},
     "output_type": "execute_result"
    }
   ],
   "source": [
    "zumi.get_all_IR_data()"
   ]
  }
 ],
 "metadata": {
  "kernelspec": {
   "display_name": "Python 3",
   "language": "python",
   "name": "python3"
  },
  "language_info": {
   "codemirror_mode": {
    "name": "ipython",
    "version": 3
   },
   "file_extension": ".py",
   "mimetype": "text/x-python",
   "name": "python",
   "nbconvert_exporter": "python",
   "pygments_lexer": "ipython3",
   "version": "3.5.3"
  }
 },
 "nbformat": 4,
 "nbformat_minor": 2
}
