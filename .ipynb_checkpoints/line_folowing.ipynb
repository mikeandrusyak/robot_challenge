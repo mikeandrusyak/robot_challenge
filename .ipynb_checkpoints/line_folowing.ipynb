{
 "cells": [
  {
   "cell_type": "code",
   "execution_count": 1,
   "metadata": {},
   "outputs": [
    {
     "name": "stdout",
     "output_type": "stream",
     "text": [
      "Starting Zumi \n",
      "Pi Zero I2C is available\n",
      "Verified Pi Zero is the same\n",
      "Gyroscope previously calibrated\n",
      "Zumi board detected\n",
      "Compass detected\n",
      "OLED Screen detected\n",
      "Gyroscope & Accelerometer detected\n",
      "Zumi battery level  72 %\n"
     ]
    }
   ],
   "source": [
    "from zumi.zumi import Zumi\n",
    "from zumi.util.screen import Screen\n",
    "import time\n",
    "from zumi.util.vision import Vision\n",
    "from zumi.util.camera import Camera \n",
    "\n",
    "zumi =    Zumi()\n",
    "camera    = Camera()\n",
    "screen    = Screen()\n",
    "vision    = Vision()"
   ]
  },
  {
   "cell_type": "code",
   "execution_count": 2,
   "metadata": {},
   "outputs": [
    {
     "name": "stdout",
     "output_type": "stream",
     "text": [
      "Creating new offset file...\n",
      ".\n",
      ".\n"
     ]
    }
   ],
   "source": [
    "zumi.mpu.calibrate_MPU()"
   ]
  },
  {
   "cell_type": "code",
   "execution_count": 3,
   "metadata": {},
   "outputs": [],
   "source": [
    "def line_correction(bottom_left, bottom_right, desired_angle, threshold):\n",
    "    if bottom_left > threshold and bottom_right < threshold:\n",
    "        desired_angle +=5\n",
    "    elif bottom_left < threshold and bottom_right > threshold:\n",
    "        desired_angle -=5\n",
    "    return desired_angle\n",
    "\n",
    "def turning_correction(desired_angle, turn_angle):\n",
    "    if desired_angle >= -turn_angle if desired_angle<0 else turn_angle:\n",
    "        desired_angle = -abs(turn_angle-abs(desired_angle))\n",
    "    else:\n",
    "        desired_angle = abs(turn_angle-abs(desired_angle))\n",
    "    return desired_angle\n",
    "\n",
    "def turn_to_check(turn):\n",
    "    zumi.reset_gyro()\n",
    "    if turn == 'left':\n",
    "        zumi.turn_left(90)\n",
    "    elif turn == 'right':\n",
    "        zumi.turn_right(180)\n",
    "    time.sleep(0.01)\n",
    "    desired_angle = zumi.read_z_angle()\n",
    "    return desired_angle\n",
    "\n",
    "def move_after_turning(speed, desired_angle):\n",
    "    zumi.reset_gyro() \n",
    "    for x in range(3):\n",
    "        zumi.go_straight(speed, desired_angle)"
   ]
  },
  {
   "cell_type": "code",
   "execution_count": 24,
   "metadata": {},
   "outputs": [],
   "source": [
    "def object_detected(threshold=100):\n",
    "    front_right, bottom_right, back_right, bottom_left, back_left, front_left = zumi.get_all_IR_data() # Get center IR sensor value\n",
    "    \n",
    "    return front_right < threshold and front_left < threshold"
   ]
  },
  {
   "cell_type": "code",
   "execution_count": null,
   "metadata": {},
   "outputs": [
    {
     "ename": "KeyboardInterrupt",
     "evalue": "",
     "output_type": "error",
     "traceback": [
      "\u001b[0;31m---------------------------------------------------------------------------\u001b[0m",
      "\u001b[0;31mKeyboardInterrupt\u001b[0m                         Traceback (most recent call last)",
      "\u001b[0;32m<ipython-input-36-02574b9bf4ad>\u001b[0m in \u001b[0;36m<module>\u001b[0;34m\u001b[0m\n\u001b[1;32m      9\u001b[0m         \u001b[0mspeed\u001b[0m \u001b[0;34m=\u001b[0m \u001b[0;36m5\u001b[0m\u001b[0;34m\u001b[0m\u001b[0m\n\u001b[1;32m     10\u001b[0m \u001b[0;34m\u001b[0m\u001b[0m\n\u001b[0;32m---> 11\u001b[0;31m         \u001b[0;32mwhile\u001b[0m \u001b[0mobject_detected\u001b[0m\u001b[0;34m(\u001b[0m\u001b[0;36m50\u001b[0m\u001b[0;34m)\u001b[0m\u001b[0;34m:\u001b[0m\u001b[0;34m\u001b[0m\u001b[0m\n\u001b[0m\u001b[1;32m     12\u001b[0m             \u001b[0mzumi\u001b[0m\u001b[0;34m.\u001b[0m\u001b[0mstop\u001b[0m\u001b[0;34m(\u001b[0m\u001b[0;34m)\u001b[0m\u001b[0;34m\u001b[0m\u001b[0m\n\u001b[1;32m     13\u001b[0m \u001b[0;34m\u001b[0m\u001b[0m\n",
      "\u001b[0;32m<ipython-input-24-6220e255314a>\u001b[0m in \u001b[0;36mobject_detected\u001b[0;34m(threshold)\u001b[0m\n\u001b[1;32m      1\u001b[0m \u001b[0;32mdef\u001b[0m \u001b[0mobject_detected\u001b[0m\u001b[0;34m(\u001b[0m\u001b[0mthreshold\u001b[0m\u001b[0;34m=\u001b[0m\u001b[0;36m100\u001b[0m\u001b[0;34m)\u001b[0m\u001b[0;34m:\u001b[0m\u001b[0;34m\u001b[0m\u001b[0m\n\u001b[0;32m----> 2\u001b[0;31m     \u001b[0mfront_right\u001b[0m\u001b[0;34m,\u001b[0m \u001b[0mbottom_right\u001b[0m\u001b[0;34m,\u001b[0m \u001b[0mback_right\u001b[0m\u001b[0;34m,\u001b[0m \u001b[0mbottom_left\u001b[0m\u001b[0;34m,\u001b[0m \u001b[0mback_left\u001b[0m\u001b[0;34m,\u001b[0m \u001b[0mfront_left\u001b[0m \u001b[0;34m=\u001b[0m \u001b[0mzumi\u001b[0m\u001b[0;34m.\u001b[0m\u001b[0mget_all_IR_data\u001b[0m\u001b[0;34m(\u001b[0m\u001b[0;34m)\u001b[0m \u001b[0;31m# Get center IR sensor value\u001b[0m\u001b[0;34m\u001b[0m\u001b[0m\n\u001b[0m\u001b[1;32m      3\u001b[0m \u001b[0;34m\u001b[0m\u001b[0m\n\u001b[1;32m      4\u001b[0m     \u001b[0;32mreturn\u001b[0m \u001b[0mfront_right\u001b[0m \u001b[0;34m<\u001b[0m \u001b[0mthreshold\u001b[0m \u001b[0;32mand\u001b[0m \u001b[0mfront_left\u001b[0m \u001b[0;34m<\u001b[0m \u001b[0mthreshold\u001b[0m\u001b[0;34m\u001b[0m\u001b[0m\n",
      "\u001b[0;32m/usr/local/lib/python3.5/dist-packages/zumi/zumi.py\u001b[0m in \u001b[0;36mget_all_IR_data\u001b[0;34m(self)\u001b[0m\n\u001b[1;32m   2335\u001b[0m             \u001b[0mself\u001b[0m\u001b[0;34m.\u001b[0m\u001b[0mir_list\u001b[0m \u001b[0;34m=\u001b[0m \u001b[0mdata\u001b[0m\u001b[0;34m\u001b[0m\u001b[0m\n\u001b[1;32m   2336\u001b[0m             \u001b[0;31m# delay to avoid i/o error\u001b[0m\u001b[0;34m\u001b[0m\u001b[0;34m\u001b[0m\u001b[0m\n\u001b[0;32m-> 2337\u001b[0;31m             \u001b[0mtime\u001b[0m\u001b[0;34m.\u001b[0m\u001b[0msleep\u001b[0m\u001b[0;34m(\u001b[0m\u001b[0mself\u001b[0m\u001b[0;34m.\u001b[0m\u001b[0mMIN_I2C_DELAY\u001b[0m\u001b[0;34m)\u001b[0m\u001b[0;34m\u001b[0m\u001b[0m\n\u001b[0m\u001b[1;32m   2338\u001b[0m         \u001b[0;32mexcept\u001b[0m \u001b[0mIOError\u001b[0m\u001b[0;34m:\u001b[0m\u001b[0;34m\u001b[0m\u001b[0m\n\u001b[1;32m   2339\u001b[0m             \u001b[0mtime\u001b[0m\u001b[0;34m.\u001b[0m\u001b[0msleep\u001b[0m\u001b[0;34m(\u001b[0m\u001b[0mself\u001b[0m\u001b[0;34m.\u001b[0m\u001b[0mMIN_I2C_DELAY\u001b[0m\u001b[0;34m)\u001b[0m\u001b[0;34m\u001b[0m\u001b[0m\n",
      "\u001b[0;31mKeyboardInterrupt\u001b[0m: "
     ]
    }
   ],
   "source": [
    "zumi.reset_gyro()\n",
    "zumi.read_z_angle()\n",
    "desired_angle = zumi.read_z_angle() \n",
    "number_of_objects = 0\n",
    "try:\n",
    "    while True:\n",
    "        # Set the threshold for the IR sensors and the speed\n",
    "        threshold = 40 \n",
    "        speed = 5\n",
    "\n",
    "        while object_detected(50):\n",
    "            zumi.stop()\n",
    "        \n",
    "        number_of_objects += 1\n",
    "\n",
    "        # Read all IR sensor values\n",
    "        front_right, bottom_right, back_right, bottom_left, back_left, front_left = zumi.get_all_IR_data()\n",
    "\n",
    "        # Correction to line if one sensor is on the line and the other is off\n",
    "        desired_angle = line_correction(bottom_left, bottom_right, desired_angle, threshold)\n",
    "\n",
    "        # Move forward with the corrected heading\n",
    "        if bottom_left > threshold or bottom_right > threshold:\n",
    "            zumi.go_straight(speed, desired_angle)\n",
    "        else:\n",
    "            # Turn to check if left is line\n",
    "            turned_left_angle = turn_to_check('left')\n",
    "\n",
    "            # Calculate angle if turn was too much or not enough\n",
    "            desired_angle = turning_correction(turned_left_angle, 90)\n",
    "\n",
    "            front_right, bottom_right, back_right, bottom_left, back_left, front_left = zumi.get_all_IR_data()\n",
    "\n",
    "            if bottom_left > threshold and bottom_right > threshold:\n",
    "                move_after_turning(speed, desired_angle)\n",
    "            else:\n",
    "                # Turn to check if right is line\n",
    "                turned_right_angle = turn_to_check('right') \n",
    "                \n",
    "                # Calculate angle if turn was too much or not enough\n",
    "                desired_angle = turning_correction(turned_right_angle, 180)\n",
    "\n",
    "                front_right, bottom_right, back_right, bottom_left, back_left, front_left = zumi.get_all_IR_data()\n",
    "                if bottom_left > threshold and bottom_right > threshold:\n",
    "                    move_after_turning(speed, desired_angle)\n",
    "                else:\n",
    "                    zumi.stop()\n",
    "                    break\n",
    "finally:\n",
    "    zumi.stop()"
   ]
  },
  {
   "cell_type": "code",
   "execution_count": null,
   "metadata": {},
   "outputs": [],
   "source": []
  },
  {
   "cell_type": "code",
   "execution_count": 62,
   "metadata": {},
   "outputs": [
    {
     "data": {
      "text/plain": [
       "[10, 12, 130, 12, 152, 11]"
      ]
     },
     "execution_count": 62,
     "metadata": {},
     "output_type": "execute_result"
    }
   ],
   "source": [
    "zumi.get_all_IR_data()"
   ]
  }
 ],
 "metadata": {
  "kernelspec": {
   "display_name": "Python 3",
   "language": "python",
   "name": "python3"
  },
  "language_info": {
   "codemirror_mode": {
    "name": "ipython",
    "version": 3
   },
   "file_extension": ".py",
   "mimetype": "text/x-python",
   "name": "python",
   "nbconvert_exporter": "python",
   "pygments_lexer": "ipython3",
   "version": "3.5.3"
  }
 },
 "nbformat": 4,
 "nbformat_minor": 2
}
