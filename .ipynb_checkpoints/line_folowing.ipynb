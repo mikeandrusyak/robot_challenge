{
 "cells": [
  {
   "cell_type": "code",
   "execution_count": 8,
   "metadata": {},
   "outputs": [
    {
     "name": "stdout",
     "output_type": "stream",
     "text": [
      "Starting Zumi \n",
      "Pi Zero I2C is available\n",
      "Verified Pi Zero is the same\n",
      "Gyroscope previously calibrated\n",
      "Zumi board detected\n",
      "Compass detected\n",
      "OLED Screen detected\n",
      "Gyroscope & Accelerometer detected\n",
      "Zumi battery level is low  4 %\n",
      "Please charge me!\n"
     ]
    }
   ],
   "source": [
    "from zumi.zumi import Zumi\n",
    "from zumi.util.screen import Screen\n",
    "import time\n",
    "from datetime import datetime\n",
    "from zumi.util.vision import Vision\n",
    "from zumi.util.camera import Camera \n",
    "\n",
    "zumi =    Zumi()\n",
    "camera    = Camera()\n",
    "screen    = Screen()\n",
    "vision    = Vision()"
   ]
  },
  {
   "cell_type": "code",
   "execution_count": 2,
   "metadata": {},
   "outputs": [
    {
     "name": "stdout",
     "output_type": "stream",
     "text": [
      "Creating new offset file...\n",
      ".\n",
      ".\n"
     ]
    }
   ],
   "source": [
    "zumi.mpu.calibrate_MPU()"
   ]
  },
  {
   "cell_type": "code",
   "execution_count": 3,
   "metadata": {},
   "outputs": [],
   "source": [
    "def line_correction(bottom_left, bottom_right, desired_angle, threshold):\n",
    "    if bottom_left > threshold and bottom_right < threshold:\n",
    "        desired_angle +=5\n",
    "    elif bottom_left < threshold and bottom_right > threshold:\n",
    "        desired_angle -=5\n",
    "    return desired_angle\n",
    "\n",
    "def turning_correction(desired_angle, turn_angle):\n",
    "    if desired_angle >= -turn_angle if desired_angle<0 else turn_angle:\n",
    "        desired_angle = -abs(turn_angle-abs(desired_angle))\n",
    "    else:\n",
    "        desired_angle = abs(turn_angle-abs(desired_angle))\n",
    "    return desired_angle\n",
    "\n",
    "def turn_to_check(turn):\n",
    "    zumi.reset_gyro()\n",
    "    if turn == 'left':\n",
    "        zumi.turn_left(90)\n",
    "    elif turn == 'right':\n",
    "        zumi.turn_right(180)\n",
    "    time.sleep(0.01)\n",
    "    desired_angle = zumi.read_z_angle()\n",
    "    return desired_angle\n",
    "\n",
    "def move_after_turning(speed, desired_angle):\n",
    "    zumi.reset_gyro() \n",
    "    for x in range(3):\n",
    "        zumi.go_straight(speed, desired_angle)"
   ]
  },
  {
   "cell_type": "code",
   "execution_count": 4,
   "metadata": {},
   "outputs": [],
   "source": [
    "def object_detected(threshold=100):\n",
    "    front_right, bottom_right, back_right, bottom_left, back_left, front_left = zumi.get_all_IR_data() # Get center IR sensor value\n",
    "    \n",
    "    return front_right < threshold and front_left < threshold"
   ]
  },
  {
   "cell_type": "code",
   "execution_count": 5,
   "metadata": {},
   "outputs": [],
   "source": [
    "log = {}"
   ]
  },
  {
   "cell_type": "code",
   "execution_count": 6,
   "metadata": {},
   "outputs": [],
   "source": [
    "def log_event(action):\n",
    "    timestamp = datetime.now()\n",
    "    log[action] = log.setdefault(action, [])\n",
    "    log[action].append(timestamp)\n",
    "    print(log)"
   ]
  },
  {
   "cell_type": "code",
   "execution_count": null,
   "metadata": {},
   "outputs": [
    {
     "name": "stdout",
     "output_type": "stream",
     "text": [
      "{'start': [datetime.datetime(2025, 3, 23, 17, 15, 1, 225298)]}\n",
      "{'end_line': [datetime.datetime(2025, 3, 23, 17, 15, 5, 627546)], 'start': [datetime.datetime(2025, 3, 23, 17, 15, 1, 225298)]}\n",
      "{'check_left': [datetime.datetime(2025, 3, 23, 17, 15, 5, 642816)], 'end_line': [datetime.datetime(2025, 3, 23, 17, 15, 5, 627546)], 'start': [datetime.datetime(2025, 3, 23, 17, 15, 1, 225298)]}\n",
      "{'check_left': [datetime.datetime(2025, 3, 23, 17, 15, 5, 642816)], 'end_line': [datetime.datetime(2025, 3, 23, 17, 15, 5, 627546)], 'start': [datetime.datetime(2025, 3, 23, 17, 15, 1, 225298)], 'move_left': [datetime.datetime(2025, 3, 23, 17, 15, 6, 718432)]}\n",
      "{'check_left': [datetime.datetime(2025, 3, 23, 17, 15, 5, 642816)], 'end_line': [datetime.datetime(2025, 3, 23, 17, 15, 5, 627546), datetime.datetime(2025, 3, 23, 17, 15, 6, 962785)], 'start': [datetime.datetime(2025, 3, 23, 17, 15, 1, 225298)], 'move_left': [datetime.datetime(2025, 3, 23, 17, 15, 6, 718432)]}\n",
      "{'check_left': [datetime.datetime(2025, 3, 23, 17, 15, 5, 642816), datetime.datetime(2025, 3, 23, 17, 15, 6, 964262)], 'end_line': [datetime.datetime(2025, 3, 23, 17, 15, 5, 627546), datetime.datetime(2025, 3, 23, 17, 15, 6, 962785)], 'start': [datetime.datetime(2025, 3, 23, 17, 15, 1, 225298)], 'move_left': [datetime.datetime(2025, 3, 23, 17, 15, 6, 718432)]}\n",
      "{'check_left': [datetime.datetime(2025, 3, 23, 17, 15, 5, 642816), datetime.datetime(2025, 3, 23, 17, 15, 6, 964262)], 'end_line': [datetime.datetime(2025, 3, 23, 17, 15, 5, 627546), datetime.datetime(2025, 3, 23, 17, 15, 6, 962785)], 'start': [datetime.datetime(2025, 3, 23, 17, 15, 1, 225298)], 'move_left': [datetime.datetime(2025, 3, 23, 17, 15, 6, 718432), datetime.datetime(2025, 3, 23, 17, 15, 8, 78797)]}\n"
     ]
    },
    {
     "ename": "KeyboardInterrupt",
     "evalue": "",
     "output_type": "error",
     "traceback": [
      "\u001b[0;31m---------------------------------------------------------------------------\u001b[0m",
      "\u001b[0;31mKeyboardInterrupt\u001b[0m                         Traceback (most recent call last)",
      "\u001b[0;32m<ipython-input-9-07a94bb08668>\u001b[0m in \u001b[0;36m<module>\u001b[0;34m\u001b[0m\n\u001b[1;32m     11\u001b[0m         \u001b[0mspeed\u001b[0m \u001b[0;34m=\u001b[0m \u001b[0;36m5\u001b[0m\u001b[0;34m\u001b[0m\u001b[0m\n\u001b[1;32m     12\u001b[0m \u001b[0;34m\u001b[0m\u001b[0m\n\u001b[0;32m---> 13\u001b[0;31m         \u001b[0;32mif\u001b[0m \u001b[0mobject_detected\u001b[0m\u001b[0;34m(\u001b[0m\u001b[0;34m)\u001b[0m\u001b[0;34m:\u001b[0m\u001b[0;34m\u001b[0m\u001b[0m\n\u001b[0m\u001b[1;32m     14\u001b[0m             \u001b[0mlog_event\u001b[0m\u001b[0;34m(\u001b[0m\u001b[0;34m'object_detected'\u001b[0m\u001b[0;34m)\u001b[0m\u001b[0;34m\u001b[0m\u001b[0m\n\u001b[1;32m     15\u001b[0m             \u001b[0;32mwhile\u001b[0m \u001b[0mobject_detected\u001b[0m\u001b[0;34m(\u001b[0m\u001b[0;34m)\u001b[0m\u001b[0;34m:\u001b[0m\u001b[0;34m\u001b[0m\u001b[0m\n",
      "\u001b[0;32m<ipython-input-4-6220e255314a>\u001b[0m in \u001b[0;36mobject_detected\u001b[0;34m(threshold)\u001b[0m\n\u001b[1;32m      1\u001b[0m \u001b[0;32mdef\u001b[0m \u001b[0mobject_detected\u001b[0m\u001b[0;34m(\u001b[0m\u001b[0mthreshold\u001b[0m\u001b[0;34m=\u001b[0m\u001b[0;36m100\u001b[0m\u001b[0;34m)\u001b[0m\u001b[0;34m:\u001b[0m\u001b[0;34m\u001b[0m\u001b[0m\n\u001b[0;32m----> 2\u001b[0;31m     \u001b[0mfront_right\u001b[0m\u001b[0;34m,\u001b[0m \u001b[0mbottom_right\u001b[0m\u001b[0;34m,\u001b[0m \u001b[0mback_right\u001b[0m\u001b[0;34m,\u001b[0m \u001b[0mbottom_left\u001b[0m\u001b[0;34m,\u001b[0m \u001b[0mback_left\u001b[0m\u001b[0;34m,\u001b[0m \u001b[0mfront_left\u001b[0m \u001b[0;34m=\u001b[0m \u001b[0mzumi\u001b[0m\u001b[0;34m.\u001b[0m\u001b[0mget_all_IR_data\u001b[0m\u001b[0;34m(\u001b[0m\u001b[0;34m)\u001b[0m \u001b[0;31m# Get center IR sensor value\u001b[0m\u001b[0;34m\u001b[0m\u001b[0m\n\u001b[0m\u001b[1;32m      3\u001b[0m \u001b[0;34m\u001b[0m\u001b[0m\n\u001b[1;32m      4\u001b[0m     \u001b[0;32mreturn\u001b[0m \u001b[0mfront_right\u001b[0m \u001b[0;34m<\u001b[0m \u001b[0mthreshold\u001b[0m \u001b[0;32mand\u001b[0m \u001b[0mfront_left\u001b[0m \u001b[0;34m<\u001b[0m \u001b[0mthreshold\u001b[0m\u001b[0;34m\u001b[0m\u001b[0m\n",
      "\u001b[0;32m/usr/local/lib/python3.5/dist-packages/zumi/zumi.py\u001b[0m in \u001b[0;36mget_all_IR_data\u001b[0;34m(self)\u001b[0m\n\u001b[1;32m   2335\u001b[0m             \u001b[0mself\u001b[0m\u001b[0;34m.\u001b[0m\u001b[0mir_list\u001b[0m \u001b[0;34m=\u001b[0m \u001b[0mdata\u001b[0m\u001b[0;34m\u001b[0m\u001b[0m\n\u001b[1;32m   2336\u001b[0m             \u001b[0;31m# delay to avoid i/o error\u001b[0m\u001b[0;34m\u001b[0m\u001b[0;34m\u001b[0m\u001b[0m\n\u001b[0;32m-> 2337\u001b[0;31m             \u001b[0mtime\u001b[0m\u001b[0;34m.\u001b[0m\u001b[0msleep\u001b[0m\u001b[0;34m(\u001b[0m\u001b[0mself\u001b[0m\u001b[0;34m.\u001b[0m\u001b[0mMIN_I2C_DELAY\u001b[0m\u001b[0;34m)\u001b[0m\u001b[0;34m\u001b[0m\u001b[0m\n\u001b[0m\u001b[1;32m   2338\u001b[0m         \u001b[0;32mexcept\u001b[0m \u001b[0mIOError\u001b[0m\u001b[0;34m:\u001b[0m\u001b[0;34m\u001b[0m\u001b[0m\n\u001b[1;32m   2339\u001b[0m             \u001b[0mtime\u001b[0m\u001b[0;34m.\u001b[0m\u001b[0msleep\u001b[0m\u001b[0;34m(\u001b[0m\u001b[0mself\u001b[0m\u001b[0;34m.\u001b[0m\u001b[0mMIN_I2C_DELAY\u001b[0m\u001b[0;34m)\u001b[0m\u001b[0;34m\u001b[0m\u001b[0m\n",
      "\u001b[0;31mKeyboardInterrupt\u001b[0m: "
     ]
    }
   ],
   "source": [
    "log = {}\n",
    "zumi.reset_gyro()\n",
    "zumi.read_z_angle()\n",
    "desired_angle = zumi.read_z_angle() \n",
    "number_of_objects = 0\n",
    "log_event('start')\n",
    "try:\n",
    "    while True:\n",
    "        # Set the threshold for the IR sensors and the speed\n",
    "        threshold = 50 \n",
    "        speed = 5\n",
    "\n",
    "        if object_detected():\n",
    "            log_event('object_detected')\n",
    "            while object_detected():\n",
    "                zumi.stop()\n",
    "                time.sleep(0.1)\n",
    "            number_of_objects += 1\n",
    "\n",
    "        # Read all IR sensor values\n",
    "        front_right, bottom_right, back_right, bottom_left, back_left, front_left = zumi.get_all_IR_data()\n",
    "\n",
    "        # Correction to line if one sensor is on the line and the other is off\n",
    "        desired_angle = line_correction(bottom_left, bottom_right, desired_angle, threshold)\n",
    "\n",
    "        # Move forward with the corrected heading\n",
    "        if bottom_left > threshold or bottom_right > threshold:\n",
    "            zumi.go_straight(speed, desired_angle)\n",
    "        else:\n",
    "            log_event('end_line')\n",
    "            if (log['end_line'][-1] - log['end_line'][-2]).total_seconds() > 3:\n",
    "                go_left = True\n",
    "            \n",
    "                log_event('check_left')\n",
    "                # Turn to check if left is line\n",
    "                turned_left_angle = turn_to_check('left')\n",
    "\n",
    "                # Calculate angle if turn was too much or not enough\n",
    "                desired_angle = turning_correction(turned_left_angle, 90)\n",
    "\n",
    "                front_right, bottom_right, back_right, bottom_left, back_left, front_left = zumi.get_all_IR_data()\n",
    "            else:\n",
    "                go_left = False\n",
    "            if bottom_left > threshold and bottom_right > threshold and go_left:\n",
    "                log_event('move_left')\n",
    "                move_after_turning(speed, desired_angle)\n",
    "            else:\n",
    "                if (log['end_line'][-1] - log['end_line'][-2]).total_seconds() > 3:\n",
    "                    go_right = True\n",
    "                    log_event('check_right')\n",
    "                    # Turn to check if right is line\n",
    "                    turned_right_angle = turn_to_check('right') \n",
    "                    \n",
    "                    # Calculate angle if turn was too much or not enough\n",
    "                    desired_angle = turning_correction(turned_right_angle, 180)\n",
    "\n",
    "                    front_right, bottom_right, back_right, bottom_left, back_left, front_left = zumi.get_all_IR_data()\n",
    "                else:\n",
    "                    go_right = False\n",
    "                if bottom_left > threshold and bottom_right > threshold and go_right:\n",
    "                    log_event('move_right')\n",
    "                    move_after_turning(speed, desired_angle)\n",
    "                else:\n",
    "                    zumi.stop()\n",
    "                    break\n",
    "finally:\n",
    "    zumi.stop()"
   ]
  },
  {
   "cell_type": "code",
   "execution_count": 10,
   "metadata": {},
   "outputs": [
    {
     "data": {
      "text/plain": [
       "{'check_left': [datetime.datetime(2025, 3, 23, 17, 15, 5, 642816),\n",
       "  datetime.datetime(2025, 3, 23, 17, 15, 6, 964262)],\n",
       " 'end_line': [datetime.datetime(2025, 3, 23, 17, 15, 5, 627546),\n",
       "  datetime.datetime(2025, 3, 23, 17, 15, 6, 962785)],\n",
       " 'move_left': [datetime.datetime(2025, 3, 23, 17, 15, 6, 718432),\n",
       "  datetime.datetime(2025, 3, 23, 17, 15, 8, 78797)],\n",
       " 'start': [datetime.datetime(2025, 3, 23, 17, 15, 1, 225298)]}"
      ]
     },
     "execution_count": 10,
     "metadata": {},
     "output_type": "execute_result"
    }
   ],
   "source": [
    "log"
   ]
  },
  {
   "cell_type": "code",
   "execution_count": 14,
   "metadata": {},
   "outputs": [
    {
     "data": {
      "text/plain": [
       "[datetime.datetime(2025, 3, 23, 17, 15, 5, 627546),\n",
       " datetime.datetime(2025, 3, 23, 17, 15, 6, 962785)]"
      ]
     },
     "execution_count": 14,
     "metadata": {},
     "output_type": "execute_result"
    }
   ],
   "source": [
    "log['end_line']"
   ]
  },
  {
   "cell_type": "code",
   "execution_count": 16,
   "metadata": {},
   "outputs": [
    {
     "data": {
      "text/plain": [
       "1.335239"
      ]
     },
     "execution_count": 16,
     "metadata": {},
     "output_type": "execute_result"
    }
   ],
   "source": [
    "(log['end_line'][-1] - log['end_line'][-2]).total_seconds()"
   ]
  },
  {
   "cell_type": "code",
   "execution_count": 18,
   "metadata": {},
   "outputs": [
    {
     "name": "stdout",
     "output_type": "stream",
     "text": [
      "no left turn\n"
     ]
    }
   ],
   "source": [
    "if (log['end_line'][-1] - log['end_line'][-2]).total_seconds() < 3:\n",
    "    print('no left turn')"
   ]
  },
  {
   "cell_type": "code",
   "execution_count": 127,
   "metadata": {},
   "outputs": [
    {
     "ename": "TypeError",
     "evalue": "unsupported operand type(s) for -: 'str' and 'str'",
     "output_type": "error",
     "traceback": [
      "\u001b[0;31m---------------------------------------------------------------------------\u001b[0m",
      "\u001b[0;31mTypeError\u001b[0m                                 Traceback (most recent call last)",
      "\u001b[0;32m<ipython-input-127-6f2158dd3090>\u001b[0m in \u001b[0;36m<module>\u001b[0;34m\u001b[0m\n\u001b[0;32m----> 1\u001b[0;31m \u001b[0mlog\u001b[0m\u001b[0;34m[\u001b[0m\u001b[0;34m'end_line'\u001b[0m\u001b[0;34m]\u001b[0m\u001b[0;34m[\u001b[0m\u001b[0;34m-\u001b[0m\u001b[0;36m1\u001b[0m\u001b[0;34m]\u001b[0m \u001b[0;34m-\u001b[0m \u001b[0mlog\u001b[0m\u001b[0;34m[\u001b[0m\u001b[0;34m'end_line'\u001b[0m\u001b[0;34m]\u001b[0m\u001b[0;34m[\u001b[0m\u001b[0;34m-\u001b[0m\u001b[0;36m1\u001b[0m\u001b[0;34m]\u001b[0m\u001b[0;34m\u001b[0m\u001b[0m\n\u001b[0m\u001b[1;32m      2\u001b[0m \u001b[0;34m\u001b[0m\u001b[0m\n",
      "\u001b[0;31mTypeError\u001b[0m: unsupported operand type(s) for -: 'str' and 'str'"
     ]
    }
   ],
   "source": [
    "log['end_line'][-1] - log['end_line'][-1] \n",
    "    "
   ]
  },
  {
   "cell_type": "code",
   "execution_count": 79,
   "metadata": {},
   "outputs": [
    {
     "data": {
      "text/plain": [
       "3"
      ]
     },
     "execution_count": 79,
     "metadata": {},
     "output_type": "execute_result"
    }
   ],
   "source": [
    "number_of_objects"
   ]
  },
  {
   "cell_type": "code",
   "execution_count": 117,
   "metadata": {},
   "outputs": [
    {
     "data": {
      "text/plain": [
       "[123, 170, 99, 169, 136, 214]"
      ]
     },
     "execution_count": 117,
     "metadata": {},
     "output_type": "execute_result"
    }
   ],
   "source": [
    "zumi.get_all_IR_data()"
   ]
  }
 ],
 "metadata": {
  "kernelspec": {
   "display_name": "Python 3",
   "language": "python",
   "name": "python3"
  },
  "language_info": {
   "codemirror_mode": {
    "name": "ipython",
    "version": 3
   },
   "file_extension": ".py",
   "mimetype": "text/x-python",
   "name": "python",
   "nbconvert_exporter": "python",
   "pygments_lexer": "ipython3",
   "version": "3.5.3"
  }
 },
 "nbformat": 4,
 "nbformat_minor": 2
}
