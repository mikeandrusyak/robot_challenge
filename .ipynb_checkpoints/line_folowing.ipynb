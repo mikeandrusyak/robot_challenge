{
 "cells": [
  {
   "cell_type": "code",
   "execution_count": 1,
   "metadata": {},
   "outputs": [
    {
     "name": "stdout",
     "output_type": "stream",
     "text": [
      "Starting Zumi \n",
      "Pi Zero I2C is available\n",
      "Verified Pi Zero is the same\n",
      "Gyroscope previously calibrated\n",
      "Zumi board detected\n",
      "Compass detected\n",
      "OLED Screen detected\n",
      "Gyroscope & Accelerometer detected\n",
      "Zumi battery level  67 %\n"
     ]
    }
   ],
   "source": [
    "from zumi.zumi import Zumi\n",
    "from zumi.util.screen import Screen\n",
    "import time\n",
    "from datetime import datetime\n",
    "from zumi.util.vision import Vision\n",
    "from zumi.util.camera import Camera \n",
    "import pandas as pd\n",
    "\n",
    "zumi =    Zumi()\n",
    "camera    = Camera()\n",
    "screen    = Screen()\n",
    "vision    = Vision()"
   ]
  },
  {
   "cell_type": "code",
   "execution_count": 8,
   "metadata": {},
   "outputs": [
    {
     "name": "stdout",
     "output_type": "stream",
     "text": [
      "Creating new offset file...\n",
      ".\n",
      ".\n"
     ]
    }
   ],
   "source": [
    "zumi.mpu.calibrate_MPU()"
   ]
  },
  {
   "cell_type": "code",
   "execution_count": 3,
   "metadata": {},
   "outputs": [],
   "source": [
    "log = {}"
   ]
  },
  {
   "cell_type": "code",
   "execution_count": 4,
   "metadata": {},
   "outputs": [],
   "source": [
    "def line_correction(bottom_left, bottom_right, desired_angle, threshold):\n",
    "    if bottom_left > threshold and bottom_right < threshold:\n",
    "        desired_angle +=5\n",
    "    elif bottom_left < threshold and bottom_right > threshold:\n",
    "        desired_angle -=5\n",
    "    return desired_angle\n",
    "\n",
    "def turning_correction(desired_angle, turn_angle):\n",
    "    if desired_angle >= -turn_angle if desired_angle<0 else turn_angle:\n",
    "        desired_angle = -abs(turn_angle-abs(desired_angle))\n",
    "    else:\n",
    "        desired_angle = abs(turn_angle-abs(desired_angle))\n",
    "    return desired_angle\n",
    "\n",
    "def turn_to_check(turn):\n",
    "    zumi.reset_gyro()\n",
    "    if turn == 'left':\n",
    "        zumi.turn_left(90)\n",
    "    elif turn == 'right':\n",
    "        zumi.turn_right(180)\n",
    "    time.sleep(0.01)\n",
    "    desired_angle = zumi.read_z_angle()\n",
    "    return desired_angle\n",
    "\n",
    "def move_after_turning(speed, desired_angle):\n",
    "    zumi.reset_gyro() \n",
    "    for x in range(3):\n",
    "        zumi.go_straight(speed, desired_angle)\n",
    "\n",
    "def object_detected(threshold=100):\n",
    "    front_right, bottom_right, back_right, bottom_left, back_left, front_left = zumi.get_all_IR_data() # Get center IR sensor value\n",
    "    \n",
    "    return front_right < threshold and front_left < threshold\n",
    "\n",
    "def log_event(action):\n",
    "    timestamp = datetime.now()\n",
    "    log[action] = log.setdefault(action, [])\n",
    "    log[action].append(timestamp)"
   ]
  },
  {
   "cell_type": "code",
   "execution_count": 19,
   "metadata": {},
   "outputs": [],
   "source": [
    "log = {}\n",
    "zumi.reset_gyro()\n",
    "zumi.read_z_angle()\n",
    "desired_angle = zumi.read_z_angle() \n",
    "number_of_objects = 0\n",
    "log_event('start')\n",
    "log_event('end_line')\n",
    "print(log['end_line'][-1])\n",
    "try:\n",
    "    while True:\n",
    "        # Set the threshold for the IR sensors and the speed\n",
    "        threshold = 50 \n",
    "        speed = 5\n",
    "\n",
    "        if object_detected():\n",
    "            log_event('object_detected')\n",
    "            while object_detected():\n",
    "                zumi.stop()\n",
    "                time.sleep(0.1)\n",
    "            number_of_objects += 1\n",
    "\n",
    "        # Read all IR sensor values\n",
    "        front_right, bottom_right, back_right, bottom_left, back_left, front_left = zumi.get_all_IR_data()\n",
    "\n",
    "        # Correction to line if one sensor is on the line and the other is off\n",
    "        desired_angle = line_correction(bottom_left, bottom_right, desired_angle, threshold)\n",
    "\n",
    "        # Move forward with the corrected heading\n",
    "        if bottom_left > threshold or bottom_right > threshold:\n",
    "            zumi.go_straight(speed, desired_angle)\n",
    "        else:\n",
    "            print('No line detected')\n",
    "            log_event('end_line')\n",
    "            print(log['end_line'][-2])\n",
    "            print(log['end_line'][-1])\n",
    "            print((log['end_line'][-1] - log['end_line'][-2]).total_seconds())\n",
    "            if (log['end_line'][-1] - log['end_line'][-2]).total_seconds() < 1:\n",
    "                go_left = False\n",
    "            else:\n",
    "                go_left = True\n",
    "            \n",
    "                log_event('check_left')\n",
    "                # Turn to check if left is line\n",
    "                turned_left_angle = turn_to_check('left')\n",
    "\n",
    "                # Calculate angle if turn was too much or not enough\n",
    "                desired_angle = turning_correction(turned_left_angle, 90)\n",
    "\n",
    "                front_right, bottom_right, back_right, bottom_left, back_left, front_left = zumi.get_all_IR_data()\n",
    "            print('bottom_left:', bottom_left, 'bottom_right:', bottom_right, 'go_left:', go_left)\n",
    "            if (bottom_left > threshold or bottom_right > threshold) and go_left:\n",
    "                log_event('move_left')\n",
    "                move_after_turning(speed, desired_angle)\n",
    "            else:\n",
    "                \n",
    "                log_event('check_right')\n",
    "                # Turn to check if right is line\n",
    "                turned_right_angle = turn_to_check('right') \n",
    "                \n",
    "                # Calculate angle if turn was too much or not enough\n",
    "                desired_angle = turning_correction(turned_right_angle, 180)\n",
    "\n",
    "                front_right, bottom_right, back_right, bottom_left, back_left, front_left = zumi.get_all_IR_data()\n",
    "\n",
    "                if bottom_left > threshold or bottom_right > threshold:\n",
    "                    log_event('move_right')\n",
    "                    move_after_turning(speed, desired_angle)\n",
    "                else:\n",
    "                    zumi.stop()\n",
    "                    break\n",
    "finally:\n",
    "    zumi.stop()"
   ]
  },
  {
   "cell_type": "code",
   "execution_count": null,
   "metadata": {},
   "outputs": [],
   "source": [
    "def save_dict_to_csv(data_dict):\n",
    "    # Generate file name with current time\n",
    "    current_time = datetime.now().strftime('%Y%m%d_%H%M%S')\n",
    "    file_name = f\"output_{current_time}.csv\"\n",
    "\n",
    "    # Create empty list to store rows\n",
    "    rows = []\n",
    "\n",
    "    # Go through all actions and timestamps\n",
    "    for action, timestamps in data_dict.items():\n",
    "        for timestamp in timestamps:\n",
    "            # Add row to list of rows\n",
    "            rows.append({\"timestamp\": timestamp, \"action\": action})\n",
    "\n",
    "    # Create DataFrame from list of rows\n",
    "    df = pd.DataFrame(rows)\n",
    "\n",
    "    # Sort DataFrame by column timestamp\n",
    "    df = df.sort_values(by='timestamp')\n",
    "\n",
    "    # Save DataFrame in CSV file\n",
    "    df.to_csv(file_name, index=False)\n",
    "    print(\"Data saved in \", file_name)"
   ]
  },
  {
   "cell_type": "code",
   "execution_count": 26,
   "metadata": {},
   "outputs": [
    {
     "name": "stdout",
     "output_type": "stream",
     "text": [
      "Data saved in  output.csv\n"
     ]
    }
   ],
   "source": [
    "save_dict_to_csv(log, 'output.csv')"
   ]
  }
 ],
 "metadata": {
  "kernelspec": {
   "display_name": "Python 3",
   "language": "python",
   "name": "python3"
  }
 },
 "nbformat": 4,
 "nbformat_minor": 2
}
