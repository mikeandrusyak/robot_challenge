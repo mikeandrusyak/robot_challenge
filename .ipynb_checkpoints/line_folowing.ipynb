{
 "cells": [
  {
   "cell_type": "code",
   "execution_count": 151,
   "metadata": {},
   "outputs": [
    {
     "name": "stdout",
     "output_type": "stream",
     "text": [
      "Starting Zumi \n",
      "Pi Zero I2C is available\n",
      "Verified Pi Zero is the same\n",
      "Gyroscope previously calibrated\n",
      "Zumi board detected\n",
      "Compass detected\n",
      "OLED Screen detected\n",
      "Gyroscope & Accelerometer detected\n",
      "Zumi battery level  42 %\n"
     ]
    }
   ],
   "source": [
    "from zumi.zumi import Zumi\n",
    "from zumi.util.screen import Screen\n",
    "import cv2\n",
    "import time\n",
    "from zumi.util.vision import Vision # New library!\n",
    "from zumi.util.camera import Camera # New library!\n",
    "from zumi.util.color_classifier import ColorClassifier # New library!\n",
    "zumi =    Zumi()\n",
    "camera    = Camera()\n",
    "screen    = Screen()\n",
    "vision    = Vision()"
   ]
  },
  {
   "cell_type": "code",
   "execution_count": null,
   "metadata": {},
   "outputs": [],
   "source": [
    "while True:\n",
    "    # Отримання даних з усіх ІЧ-сенсорів\n",
    "    front_right, bottom_right, back_right, bottom_left, back_left, front_left = zumi.get_all_IR_data()\n",
    "    \n",
    "    # Налаштування порогу (чим менше значення, тим ближче об'єкт)\n",
    "    threshold = 100 \n",
    "    speed = 0.5\n",
    "    # Логіка для виявлення можливих шляхів\n",
    "\n",
    "    if bottom_left > threshold and bottom_right > threshold:\n",
    "        zumi.line_follower(speed)\n",
    "    else:\n",
    "        zumi.turn_left(90)\n",
    "        front_right, bottom_right, back_right, bottom_left, back_left, front_left = zumi.get_all_IR_data()\n",
    "        if bottom_left > threshold and bottom_right > threshold:\n",
    "            zumi.line_follower(speed)\n",
    "        else:\n",
    "            zumi.turn_right(180)\n",
    "            front_right, bottom_right, back_right, bottom_left, back_left, front_left = zumi.get_all_IR_data()\n",
    "            if bottom_left < threshold or bottom_right < threshold:\n",
    "                zumi.stop()\n",
    "                break"
   ]
  }
 ],
 "metadata": {
  "kernelspec": {
   "display_name": "Python 3",
   "language": "python",
   "name": "python3"
  }
 },
 "nbformat": 4,
 "nbformat_minor": 2
}
