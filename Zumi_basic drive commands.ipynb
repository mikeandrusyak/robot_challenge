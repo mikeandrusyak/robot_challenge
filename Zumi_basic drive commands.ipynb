{
 "cells": [
  {
   "cell_type": "markdown",
   "id": "2119f078-e141-4656-ab72-5a19a5d93892",
   "metadata": {},
   "source": [
    "# 1.1 Basic Drive Commands"
   ]
  },
  {
   "cell_type": "markdown",
   "id": "c7b99618-772c-4c0c-bcc9-d153104555ea",
   "metadata": {},
   "source": [
    "## Step 1"
   ]
  },
  {
   "cell_type": "markdown",
   "id": "df4cf942-cd06-4513-b658-50d1872c589a",
   "metadata": {},
   "source": [
    "### Import libraries"
   ]
  },
  {
   "cell_type": "code",
   "execution_count": 2,
   "id": "dcc14233-702f-46a7-8a5d-aaee5e9c7f9d",
   "metadata": {},
   "outputs": [
    {
     "ename": "ModuleNotFoundError",
     "evalue": "No module named 'fcntl'",
     "output_type": "error",
     "traceback": [
      "\u001b[1;31m---------------------------------------------------------------------------\u001b[0m",
      "\u001b[1;31mModuleNotFoundError\u001b[0m                       Traceback (most recent call last)",
      "Cell \u001b[1;32mIn[2], line 1\u001b[0m\n\u001b[1;32m----> 1\u001b[0m \u001b[38;5;28;01mfrom\u001b[39;00m \u001b[38;5;21;01mzumi\u001b[39;00m\u001b[38;5;21;01m.\u001b[39;00m\u001b[38;5;21;01mzumi\u001b[39;00m \u001b[38;5;28;01mimport\u001b[39;00m Zumi\n\u001b[0;32m      2\u001b[0m \u001b[38;5;28;01mimport\u001b[39;00m \u001b[38;5;21;01mtime\u001b[39;00m\n\u001b[0;32m      4\u001b[0m zumi \u001b[38;5;241m=\u001b[39m Zumi()\n",
      "File \u001b[1;32m~\\AppData\\Local\\Packages\\PythonSoftwareFoundation.Python.3.12_qbz5n2kfra8p0\\LocalCache\\local-packages\\Python312\\site-packages\\zumi\\zumi.py:4\u001b[0m\n\u001b[0;32m      1\u001b[0m \u001b[38;5;66;03m# Zumi python library version 1.66\u001b[39;00m\n\u001b[0;32m      3\u001b[0m \u001b[38;5;28;01mimport\u001b[39;00m \u001b[38;5;21;01mos\u001b[39;00m\n\u001b[1;32m----> 4\u001b[0m \u001b[38;5;28;01mimport\u001b[39;00m \u001b[38;5;21;01msmbus2\u001b[39;00m\n\u001b[0;32m      5\u001b[0m \u001b[38;5;28;01mimport\u001b[39;00m \u001b[38;5;21;01mtime\u001b[39;00m\n\u001b[0;32m      6\u001b[0m \u001b[38;5;28;01mimport\u001b[39;00m \u001b[38;5;21;01mconfigparser\u001b[39;00m\n",
      "File \u001b[1;32m~\\AppData\\Local\\Packages\\PythonSoftwareFoundation.Python.3.12_qbz5n2kfra8p0\\LocalCache\\local-packages\\Python312\\site-packages\\smbus2\\__init__.py:23\u001b[0m\n\u001b[0;32m      1\u001b[0m \u001b[38;5;124;03m\"\"\"smbus2 - A drop-in replacement for smbus-cffi/smbus-python\"\"\"\u001b[39;00m\n\u001b[0;32m      2\u001b[0m \u001b[38;5;66;03m# The MIT License (MIT)\u001b[39;00m\n\u001b[0;32m      3\u001b[0m \u001b[38;5;66;03m# Copyright (c) 2020 Karl-Petter Lindegaard\u001b[39;00m\n\u001b[0;32m      4\u001b[0m \u001b[38;5;66;03m#\u001b[39;00m\n\u001b[1;32m   (...)\u001b[0m\n\u001b[0;32m     20\u001b[0m \u001b[38;5;66;03m# OUT OF OR IN CONNECTION WITH THE SOFTWARE OR THE USE OR OTHER DEALINGS IN THE\u001b[39;00m\n\u001b[0;32m     21\u001b[0m \u001b[38;5;66;03m# SOFTWARE.\u001b[39;00m\n\u001b[1;32m---> 23\u001b[0m \u001b[38;5;28;01mfrom\u001b[39;00m \u001b[38;5;21;01m.\u001b[39;00m\u001b[38;5;21;01msmbus2\u001b[39;00m \u001b[38;5;28;01mimport\u001b[39;00m SMBus, i2c_msg, I2cFunc  \u001b[38;5;66;03m# noqa: F401\u001b[39;00m\n\u001b[0;32m     25\u001b[0m __version__ \u001b[38;5;241m=\u001b[39m \u001b[38;5;124m\"\u001b[39m\u001b[38;5;124m0.5.0\u001b[39m\u001b[38;5;124m\"\u001b[39m\n\u001b[0;32m     26\u001b[0m __all__ \u001b[38;5;241m=\u001b[39m [\u001b[38;5;124m\"\u001b[39m\u001b[38;5;124mSMBus\u001b[39m\u001b[38;5;124m\"\u001b[39m, \u001b[38;5;124m\"\u001b[39m\u001b[38;5;124mi2c_msg\u001b[39m\u001b[38;5;124m\"\u001b[39m, \u001b[38;5;124m\"\u001b[39m\u001b[38;5;124mI2cFunc\u001b[39m\u001b[38;5;124m\"\u001b[39m]\n",
      "File \u001b[1;32m~\\AppData\\Local\\Packages\\PythonSoftwareFoundation.Python.3.12_qbz5n2kfra8p0\\LocalCache\\local-packages\\Python312\\site-packages\\smbus2\\smbus2.py:25\u001b[0m\n\u001b[0;32m     23\u001b[0m \u001b[38;5;28;01mimport\u001b[39;00m \u001b[38;5;21;01mos\u001b[39;00m\n\u001b[0;32m     24\u001b[0m \u001b[38;5;28;01mimport\u001b[39;00m \u001b[38;5;21;01msys\u001b[39;00m\n\u001b[1;32m---> 25\u001b[0m \u001b[38;5;28;01mfrom\u001b[39;00m \u001b[38;5;21;01mfcntl\u001b[39;00m \u001b[38;5;28;01mimport\u001b[39;00m ioctl\n\u001b[0;32m     26\u001b[0m \u001b[38;5;28;01mfrom\u001b[39;00m \u001b[38;5;21;01mctypes\u001b[39;00m \u001b[38;5;28;01mimport\u001b[39;00m c_uint32, c_uint8, c_uint16, c_char, POINTER, Structure, Array, Union, create_string_buffer, string_at\n\u001b[0;32m     29\u001b[0m \u001b[38;5;66;03m# Commands from uapi/linux/i2c-dev.h\u001b[39;00m\n",
      "\u001b[1;31mModuleNotFoundError\u001b[0m: No module named 'fcntl'"
     ]
    }
   ],
   "source": [
    "from zumi.zumi import Zumi\n",
    "import time\n",
    "\n",
    "zumi = Zumi()"
   ]
  },
  {
   "cell_type": "markdown",
   "id": "142a19f0-ca64-4b9b-9e16-94c3205abd8c",
   "metadata": {},
   "source": [
    "### Basic moves"
   ]
  },
  {
   "cell_type": "code",
   "execution_count": null,
   "id": "5c03798f-aa03-441b-90e5-4935bf1ca955",
   "metadata": {},
   "outputs": [],
   "source": [
    "# when direction and speed are not defined, Zumi moves at speed 40 for 1 second\n",
    "# forward\n",
    "zumi.forward()\n",
    "\n",
    "# reverse\n",
    "zumi.reverse()\n",
    "\n",
    "# forward at speed 30 for 2 seconds\n",
    "zumi.forward(speed = 30, duration = 2)\n",
    "\n",
    "zumi.reverse(30, 1)"
   ]
  },
  {
   "cell_type": "markdown",
   "id": "7e999c94-09f5-47fd-bf49-c954d349ceaf",
   "metadata": {},
   "source": [
    "### Zumi sleep"
   ]
  },
  {
   "cell_type": "markdown",
   "id": "7e13de93-201b-4f6f-be05-143dd1d8fe8b",
   "metadata": {},
   "source": [
    "If you want to have some time between each command, include a time.sleep(seconds) to delay the program for the specified number of seconds. \n",
    "This might be useful when turning for more than 90 degrees."
   ]
  },
  {
   "cell_type": "code",
   "execution_count": null,
   "id": "fa572389-1c62-4cb3-be04-48d9ec18326e",
   "metadata": {},
   "outputs": [],
   "source": [
    "zumi.forward() # Drive forward for 1 second then stop\n",
    "time.sleep(2) # Wait 2 seconds\n",
    "zumi.turn_right() # Turn right 90 degrees"
   ]
  },
  {
   "cell_type": "markdown",
   "id": "b36f006f-297b-452a-b597-4dce93b77e8b",
   "metadata": {},
   "source": [
    "### Turning"
   ]
  },
  {
   "cell_type": "code",
   "execution_count": null,
   "id": "06d8ca4e-a2ea-41d5-bc29-efe78006a0c9",
   "metadata": {},
   "outputs": [],
   "source": [
    "# default is 90 degrees"
   ]
  },
  {
   "cell_type": "markdown",
   "id": "6c22bab5-5fe2-4260-a972-ce57001eee0b",
   "metadata": {},
   "source": [
    "zumi.turn_right()\n",
    "\n",
    "zumi.turn_left()"
   ]
  },
  {
   "cell_type": "code",
   "execution_count": null,
   "id": "2522a834-168a-4b5b-9c86-71741f6271e0",
   "metadata": {},
   "outputs": [],
   "source": [
    "# specify the angle of the turn in the function\n",
    "\n",
    "zumi.turn_right(120)  # turn 120 degrees to the right"
   ]
  },
  {
   "cell_type": "markdown",
   "id": "fc1f0960-d1d3-4ef6-a685-df23d9197e40",
   "metadata": {},
   "source": [
    "### Lights"
   ]
  },
  {
   "cell_type": "code",
   "execution_count": 3,
   "id": "17dda426-98ca-43db-9344-2a912ae3b299",
   "metadata": {},
   "outputs": [
    {
     "ename": "NameError",
     "evalue": "name 'zumi' is not defined",
     "output_type": "error",
     "traceback": [
      "\u001b[1;31m---------------------------------------------------------------------------\u001b[0m",
      "\u001b[1;31mNameError\u001b[0m                                 Traceback (most recent call last)",
      "Cell \u001b[1;32mIn[3], line 4\u001b[0m\n\u001b[0;32m      1\u001b[0m \u001b[38;5;66;03m# just add zumi. to the following functions\u001b[39;00m\n\u001b[0;32m      2\u001b[0m \n\u001b[0;32m      3\u001b[0m \u001b[38;5;66;03m# all_lights_on()\u001b[39;00m\n\u001b[1;32m----> 4\u001b[0m \u001b[43mzumi\u001b[49m\u001b[38;5;241m.\u001b[39mall_lights_on()\n\u001b[0;32m      6\u001b[0m \u001b[38;5;66;03m# all_lights_off()\u001b[39;00m\n\u001b[0;32m      7\u001b[0m \n\u001b[0;32m      8\u001b[0m \u001b[38;5;66;03m# headlights_on()\u001b[39;00m\n\u001b[1;32m   (...)\u001b[0m\n\u001b[0;32m     25\u001b[0m \n\u001b[0;32m     26\u001b[0m \u001b[38;5;66;03m# signal_right_off()\u001b[39;00m\n",
      "\u001b[1;31mNameError\u001b[0m: name 'zumi' is not defined"
     ]
    }
   ],
   "source": [
    "# just add zumi. to the following functions\n",
    "\n",
    "# all_lights_on()\n",
    "zumi.all_lights_on()\n",
    "\n",
    "# all_lights_off()\n",
    "\n",
    "# headlights_on()\n",
    "\n",
    "# headlights_off()\n",
    "\n",
    "# brake_lights_on()\n",
    "\n",
    "# brake_lights_off()\n",
    "\n",
    "# hazard_lights_on()\n",
    "\n",
    "# hazard_lights_off()\n",
    "\n",
    "# signal_left_on()\n",
    "\n",
    "# signal_left_off()\n",
    "\n",
    "# signal_right_on()\n",
    "\n",
    "# signal_right_off()"
   ]
  },
  {
   "cell_type": "markdown",
   "id": "94af7846-6111-4c07-92b6-f3c287a85a75",
   "metadata": {},
   "source": [
    "### Remote Control"
   ]
  },
  {
   "cell_type": "code",
   "execution_count": 1,
   "id": "a4f8d78f-7017-427c-a0f0-32043cca201a",
   "metadata": {},
   "outputs": [
    {
     "name": "stdin",
     "output_type": "stream",
     "text": [
      "Enter w for forward, s for reverse, a for left and d for right. q to quit. w\n"
     ]
    },
    {
     "ename": "NameError",
     "evalue": "name 'zumi' is not defined",
     "output_type": "error",
     "traceback": [
      "\u001b[1;31m---------------------------------------------------------------------------\u001b[0m",
      "\u001b[1;31mNameError\u001b[0m                                 Traceback (most recent call last)",
      "Cell \u001b[1;32mIn[1], line 5\u001b[0m\n\u001b[0;32m      2\u001b[0m direction \u001b[38;5;241m=\u001b[39m \u001b[38;5;28minput\u001b[39m(\u001b[38;5;124m\"\u001b[39m\u001b[38;5;124mEnter w for forward, s for reverse, a for left and d for right. q to quit.\u001b[39m\u001b[38;5;124m\"\u001b[39m)\n\u001b[0;32m      4\u001b[0m \u001b[38;5;28;01mif\u001b[39;00m direction \u001b[38;5;241m==\u001b[39m \u001b[38;5;124m\"\u001b[39m\u001b[38;5;124mw\u001b[39m\u001b[38;5;124m\"\u001b[39m:\n\u001b[1;32m----> 5\u001b[0m     \u001b[43mzumi\u001b[49m\u001b[38;5;241m.\u001b[39mforward()\n\u001b[0;32m      6\u001b[0m \u001b[38;5;28;01mif\u001b[39;00m direction \u001b[38;5;241m==\u001b[39m \u001b[38;5;124m\"\u001b[39m\u001b[38;5;124ms\u001b[39m\u001b[38;5;124m\"\u001b[39m:\n\u001b[0;32m      7\u001b[0m     zumi\u001b[38;5;241m.\u001b[39mreverse()\n",
      "\u001b[1;31mNameError\u001b[0m: name 'zumi' is not defined"
     ]
    }
   ],
   "source": [
    "while True:\n",
    "    direction = input(\"Enter w for forward, s for reverse, a for left and d for right. q to quit.\")\n",
    "\n",
    "    if direction == \"w\":\n",
    "        zumi.forward()\n",
    "    if direction == \"s\":\n",
    "        zumi.reverse()\n",
    "    if direction == \"a\":\n",
    "        zumi.turn_left()\n",
    "    if direction == \"d\":\n",
    "        zumi.turn_right\n",
    "    if direction == \"q\":\n",
    "        break"
   ]
  },
  {
   "cell_type": "markdown",
   "id": "4c5bd5bd-c232-4e8f-8829-726fea9db2c2",
   "metadata": {},
   "source": [
    "## Recalibrating"
   ]
  },
  {
   "cell_type": "code",
   "execution_count": null,
   "id": "10fca6a0-5bff-407a-a996-5ec31164b4ea",
   "metadata": {},
   "outputs": [],
   "source": [
    "zumi.mpu.calibrate_MPU()"
   ]
  },
  {
   "cell_type": "code",
   "execution_count": null,
   "id": "0b0d31fa-eb95-4df1-96ec-aeb30703a244",
   "metadata": {},
   "outputs": [],
   "source": []
  },
  {
   "cell_type": "code",
   "execution_count": null,
   "id": "d75bde49-576b-43be-8219-d4c96a2ca0d4",
   "metadata": {},
   "outputs": [],
   "source": []
  },
  {
   "cell_type": "code",
   "execution_count": null,
   "id": "efa31e37-b6fa-4dca-83be-577756f06e70",
   "metadata": {},
   "outputs": [],
   "source": []
  }
 ],
 "metadata": {
  "kernelspec": {
   "display_name": "Python 3 (ipykernel)",
   "language": "python",
   "name": "python3"
  },
  "language_info": {
   "codemirror_mode": {
    "name": "ipython",
    "version": 3
   },
   "file_extension": ".py",
   "mimetype": "text/x-python",
   "name": "python",
   "nbconvert_exporter": "python",
   "pygments_lexer": "ipython3",
   "version": "3.12.9"
  }
 },
 "nbformat": 4,
 "nbformat_minor": 5
}
