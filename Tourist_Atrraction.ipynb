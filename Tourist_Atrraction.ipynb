{
 "cells": [
  {
   "cell_type": "code",
   "execution_count": null,
   "id": "fde38898",
   "metadata": {},
   "outputs": [],
   "source": [
    "from zumi.zumi import Zumi\n",
    "from zumi.util.camera import Camera\n",
    "from zumi.util.vision import Vision\n",
    "camera = Camera()\n",
    "vision = Vision()\n",
    "\n",
    "camera.start_camera()\n",
    "try: \n",
    "    for i in range(50):\n",
    "        frame = camera.capture()\n",
    "        qr_code =vision.find_QR_code(frame)\n",
    "        print(vision.find_QR_code(frame))\n",
    "        message = vision.get_QR_message(qr_code)\n",
    "        if message==\"Take Picture\":#This QR codes doesn't get recognised yet\n",
    "            print(\"Take Picture\")\n",
    "            image1=camera.capture()\n",
    "            screen.show_image()#doesn't do anything yet, but might be usefull later\n",
    "        if message==\"Tourist Attraction\":\n",
    "            print(\"found tourist attraction\")\n",
    "            image2=camera.capture()\n",
    "            screen.show_image()#doesn't do anything yet, but might be usefull later\n",
    "            image2 = vision.convert_to_gray(image2)\n",
    "            vision.find_face(image2)\n",
    "            screen.show_image()\n",
    "        camera.show_image(frame)\n",
    "        camera.clear_output()\n",
    "finally:\n",
    "    print(\"Done!\")\n",
    "    camera.close()\n",
    "\n",
    "\n",
    "print(image)\n",
    "#image2 = vision.convert_to_gray(image2)\n",
    "#vision.find_face(image2)\n",
    "#screen.show_image()"
   ]
  }
 ],
 "metadata": {
  "language_info": {
   "name": "python"
  }
 },
 "nbformat": 4,
 "nbformat_minor": 5
}
